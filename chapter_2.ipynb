{
 "cells": [
  {
   "cell_type": "code",
   "execution_count": 8,
   "id": "274849a6",
   "metadata": {},
   "outputs": [],
   "source": [
    "#Importing necessary libraries\n",
    "\n",
    "from tensorflow.keras.datasets import mnist        # importing ready dataset inside of keras\n",
    "from tensorflow.keras import models                # importing models module \n",
    "from tensorflow.keras import layers                # importing layers module\n",
    "from tensorflow.keras.utils import to_categorical  #\n",
    "from tensorflow.keras.utils import plot_model      # to show structure of model\n",
    "\n",
    "import matplotlib.pyplot as plt\n"
   ]
  },
  {
   "cell_type": "code",
   "execution_count": 9,
   "id": "e59038cf",
   "metadata": {},
   "outputs": [],
   "source": [
    "(train_images, train_labels), (test_images, test_labels) = mnist.load_data()"
   ]
  },
  {
   "cell_type": "markdown",
   "id": "347f4042",
   "metadata": {},
   "source": [
    "### Recognizing the data\n",
    "As it can seen below, our dataset has 60000 train and ... test images. Each image has 28x28 pixels with in gray."
   ]
  },
  {
   "cell_type": "markdown",
   "id": "a84ec207",
   "metadata": {},
   "source": [
    "### --- TRAIN DATA ---"
   ]
  },
  {
   "cell_type": "code",
   "execution_count": 10,
   "id": "250988cc",
   "metadata": {},
   "outputs": [
    {
     "data": {
      "text/plain": [
       "(60000, 28, 28)"
      ]
     },
     "execution_count": 10,
     "metadata": {},
     "output_type": "execute_result"
    }
   ],
   "source": [
    "train_images.shape"
   ]
  },
  {
   "cell_type": "code",
   "execution_count": 11,
   "id": "aa4cece3",
   "metadata": {},
   "outputs": [
    {
     "data": {
      "text/plain": [
       "(60000,)"
      ]
     },
     "execution_count": 11,
     "metadata": {},
     "output_type": "execute_result"
    }
   ],
   "source": [
    "train_labels.shape"
   ]
  },
  {
   "cell_type": "code",
   "execution_count": 12,
   "id": "23669af1",
   "metadata": {},
   "outputs": [
    {
     "name": "stderr",
     "output_type": "stream",
     "text": [
      "No artists with labels found to put in legend.  Note that artists whose label start with an underscore are ignored when legend() is called with no argument.\n"
     ]
    },
    {
     "data": {
      "text/plain": [
       "<matplotlib.legend.Legend at 0x1d93060ec70>"
      ]
     },
     "execution_count": 12,
     "metadata": {},
     "output_type": "execute_result"
    },
    {
     "data": {
      "image/png": "[encoded data removed]",
      "text/plain": [
       "<Figure size 432x288 with 1 Axes>"
      ]
     },
     "metadata": {
      "needs_background": "light"
     },
     "output_type": "display_data"
    }
   ],
   "source": [
    "digit_train_set = train_images[6]\n",
    "plt.imshow(digit_train_set, cmap=plt.cm.binary)\n",
    "plt.legend()"
   ]
  },
  {
   "cell_type": "markdown",
   "id": "348f9ade",
   "metadata": {},
   "source": [
    "### --- TEST DATA---"
   ]
  },
  {
   "cell_type": "code",
   "execution_count": 14,
   "id": "c9bd0f98",
   "metadata": {},
   "outputs": [
    {
     "data": {
      "text/plain": [
       "(10000, 28, 28)"
      ]
     },
     "execution_count": 14,
     "metadata": {},
     "output_type": "execute_result"
    }
   ],
   "source": [
    "test_images.shape"
   ]
  },
  {
   "cell_type": "code",
   "execution_count": 15,
   "id": "58803f8e",
   "metadata": {},
   "outputs": [
    {
     "data": {
      "text/plain": [
       "(10000,)"
      ]
     },
     "execution_count": 15,
     "metadata": {},
     "output_type": "execute_result"
    }
   ],
   "source": [
    "test_labels.shape"
   ]
  },
  {
   "cell_type": "code",
   "execution_count": 17,
   "id": "1919f663",
   "metadata": {},
   "outputs": [
    {
     "data": {
      "image/png": "[encoded data removed]",
      "text/plain": [
       "<Figure size 432x288 with 1 Axes>"
      ]
     },
     "metadata": {
      "needs_background": "light"
     },
     "output_type": "display_data"
    }
   ],
   "source": [
    "digit_test_set = test_images[3]\n",
    "plt.imshow(digit_test_set, cmap=plt.cm.binary)\n",
    "plt.show()"
   ]
  },
  {
   "cell_type": "markdown",
   "id": "5ce4739b",
   "metadata": {},
   "source": [
    "#### Note: A it can seen, mnist dataset has 70000 images divided into 60000 and 10000 train and test respectively. Each image represents handwriting digits by 28x28 grayscale "
   ]
  },
  {
   "cell_type": "code",
   "execution_count": null,
   "id": "5b72d030",
   "metadata": {},
   "outputs": [],
   "source": []
  }
 ],
 "metadata": {
  "kernelspec": {
   "display_name": "Python 3 (ipykernel)",
   "language": "python",
   "name": "python3"
  },
  "language_info": {
   "codemirror_mode": {
    "name": "ipython",
    "version": 3
   },
   "file_extension": ".py",
   "mimetype": "text/x-python",
   "name": "python",
   "nbconvert_exporter": "python",
   "pygments_lexer": "ipython3",
   "version": "3.8.12"
  }
 },
 "nbformat": 4,
 "nbformat_minor": 5
}
